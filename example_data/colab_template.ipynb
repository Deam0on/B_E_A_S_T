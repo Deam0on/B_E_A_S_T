{
  "cells": [
    {
      "cell_type": "markdown",
      "id": "93d48e8f",
      "metadata": {
        "id": "93d48e8f"
      },
      "source": [
        "# Binding Isotherm Analysis Tool on Colab\n",
        "Run association constant analysis from titration CSV files."
      ]
    },
    {
      "cell_type": "code",
      "execution_count": null,
      "id": "d7faa740",
      "metadata": {
        "id": "d7faa740"
      },
      "outputs": [],
      "source": [
        "# Imports\n",
        "from google.colab import files\n",
        "import os\n",
        "from IPython.display import Image, display\n",
        "\n",
        "# Bruteforce new start\n",
        "!rm -rf mysak_delta_iso data_input results *.csv *.png\n",
        "\n",
        "# Step 1: Clone the GitHub repo\n",
        "!git clone https://github.com/Deam0on/mysak_delta_iso.git\n",
        "\n",
        "# Step 2: Install dependencies\n",
        "!pip install -r /content/mysak_delta_iso/binding_analysis/requirements.txt\n",
        "\n",
        "# Step 3: Upload your .csv files\n",
        "uploaded = files.upload()\n",
        "os.makedirs(\"data_input\", exist_ok=True)\n",
        "for fn in uploaded:\n",
        "    os.rename(fn, os.path.join(\"data_input\", fn))\n",
        "\n",
        "# Step 4: Run the CLI analysis with flags\n",
        "!python /content/mysak_delta_iso/binding_analysis/binding_analysis_tool.py \\\n",
        "  --input_dir data_input \\\n",
        "  --output_dir results \\\n",
        "  --no_normalized\n",
        "\n",
        "# Step 5: Show the output plots\n",
        "os.makedirs(\"results\", exist_ok=True)  # just in case\n",
        "for file in os.listdir(\"results\"):\n",
        "    if file.endswith(\"_plot.png\"):\n",
        "        display(Image(filename=os.path.join(\"results\", file)))\n",
        "\n",
        "# Step 6: Zip the results folder\n",
        "import shutil\n",
        "shutil.make_archive(\"results\", 'zip', \"results\")\n",
        "\n",
        "# Step 7: Trigger download in Colab\n",
        "from google.colab import files\n",
        "files.download(\"results.zip\")"
      ]
    }
  ],
  "metadata": {
    "colab": {
      "provenance": []
    },
    "kernelspec": {
      "display_name": "Python 3",
      "name": "python3"
    },
    "language_info": {
      "name": "python"
    }
  },
  "nbformat": 4,
  "nbformat_minor": 5
}
