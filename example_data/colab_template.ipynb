{
  "cells": [
    {
      "cell_type": "markdown",
      "id": "93d48e8f",
      "metadata": {
        "id": "93d48e8f"
      },
      "source": [
        "# Binding Isotherm Analysis Tool on Colab\n",
        "Run association constant analysis from titration CSV files."
      ]
    },
    {
      "cell_type": "code",
      "execution_count": null,
      "id": "d7faa740",
      "metadata": {
        "id": "d7faa740"
      },
      "outputs": [],
      "source": [
        "# Imports\n",
        "from google.colab import files\n",
        "import os\n",
        "from IPython.display import Image, display\n",
        "\n",
        "# Clean start - remove any existing files\n",
        "!rm -rf B_E_A_S_T data_input results *.csv *.png\n",
        "\n",
        "# Step 1: Clone the GitHub repository\n",
        "!git clone https://github.com/Deam0on/B_E_A_S_T.git\n",
        "\n",
        "# Step 2: Install required dependencies  \n",
        "!pip install -r B_E_A_S_T/binding_analysis/requirements.txt\n",
        "\n",
        "# Step 3: Upload your .csv files\n",
        "print(\"Please upload your CSV files (must contain 'H', 'G', 'delta' columns):\")\n",
        "uploaded = files.upload()\n",
        "os.makedirs(\"data_input\", exist_ok=True)\n",
        "for fn in uploaded:\n",
        "    os.rename(fn, os.path.join(\"data_input\", fn))\n",
        "    print(f\"Uploaded: {fn}\")\n",
        "\n",
        "# Step 4: Run the binding analysis with recommended settings\n",
        "!python B_E_A_S_T/binding_analysis/binding_analysis_tool.py \\\n",
        "  --input_dir data_input \\\n",
        "  --output_dir results \\\n",
        "  --no_normalized\n",
        "\n",
        "# Step 5: Display the generated plots\n",
        "results_dir = \"results\"\n",
        "if os.path.exists(results_dir):\n",
        "    plot_files = [f for f in os.listdir(results_dir) if f.endswith(\"_plot.png\")]\n",
        "    if plot_files:\n",
        "        print(f\"\\nFound {len(plot_files)} result plots:\")\n",
        "        for plot_file in sorted(plot_files):\n",
        "            print(f\"Displaying: {plot_file}\")\n",
        "            display(Image(filename=os.path.join(results_dir, plot_file)))\n",
        "    else:\n",
        "        print(\"No plot files found in results directory.\")\n",
        "else:\n",
        "    print(\"Results directory not found.\")\n",
        "\n",
        "# Step 6: Package results for download\n",
        "import shutil\n",
        "if os.path.exists(results_dir):\n",
        "    shutil.make_archive(\"analysis_results\", 'zip', results_dir)\n",
        "    print(\"\\nResults packaged as 'analysis_results.zip'\")\n",
        "    \n",
        "    # Step 7: Download results\n",
        "    from google.colab import files\n",
        "    files.download(\"analysis_results.zip\")\n",
        "    print(\"Download initiated - check your browser downloads.\")\n",
        "else:\n",
        "    print(\"No results to package - analysis may have failed.\")"
      ]
    }
  ],
  "metadata": {
    "colab": {
      "provenance": []
    },
    "kernelspec": {
      "display_name": "Python 3",
      "name": "python3"
    },
    "language_info": {
      "name": "python"
    }
  },
  "nbformat": 4,
  "nbformat_minor": 5
}
