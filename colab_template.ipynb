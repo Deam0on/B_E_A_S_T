{
 "cells": [
  {
   "cell_type": "markdown",
   "id": "93d48e8f",
   "metadata": {},
   "source": [
    "# Binding Isotherm Analysis Tool on Colab\n",
    "Run association constant analysis from titration CSV files."
   ]
  },
  {
   "cell_type": "code",
   "execution_count": null,
   "id": "d7faa740",
   "metadata": {},
   "outputs": [],
   "source": [
    "# Step 1: Clone the GitHub repo\n",
    "!git clone https://github.com/Deam0on/mysak_delta_iso.git\n",
    "%cd mysak_delta_iso"
   ]
  },
  {
   "cell_type": "code",
   "execution_count": null,
   "id": "9429ae8a",
   "metadata": {},
   "outputs": [],
   "source": [
    "# Step 2: Install dependencies\n",
    "!pip install -r requirements.txt"
   ]
  },
  {
   "cell_type": "code",
   "execution_count": null,
   "id": "aaa70c1c",
   "metadata": {},
   "outputs": [],
   "source": [
    "# Step 3: Upload your .csv files\n",
    "from google.colab import files\n",
    "uploaded = files.upload()\n",
    "\n",
    "import os\n",
    "os.makedirs(\"data_input\", exist_ok=True)\n",
    "for fn in uploaded:\n",
    "    os.rename(fn, os.path.join(\"data_input\", fn))"
   ]
  },
  {
   "cell_type": "code",
   "execution_count": null,
   "id": "b5276383",
   "metadata": {},
   "outputs": [],
   "source": [
    "# Step 4: Run the analysis script\n",
    "!python binding_analysis_tool.py"
   ]
  },
  {
   "cell_type": "code",
   "execution_count": null,
   "id": "7e4b962b",
   "metadata": {},
   "outputs": [],
   "source": [
    "# Step 5: Show the output plots\n",
    "from IPython.display import Image, display\n",
    "import os\n",
    "for file in os.listdir(\"results\"):\n",
    "    if file.endswith(\"_plot.png\"):\n",
    "        display(Image(filename=os.path.join(\"results\", file)))"
   ]
  }
 ],
 "metadata": {},
 "nbformat": 4,
 "nbformat_minor": 5
}
