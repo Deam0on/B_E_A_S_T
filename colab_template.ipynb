# Step 1: Clone the repo
!git clone https://github.com/YOUR_USERNAME/binding_analysis.git
%cd binding_analysis

# Step 2: Install dependencies (Colab already has most, but safe to repeat)
!pip install -r requirements.txt

# Step 3: Upload your CSV files
from google.colab import files
uploaded = files.upload()

import os
os.makedirs("data_input", exist_ok=True)
for fn in uploaded.keys():
    os.rename(fn, os.path.join("data_input", fn))

# Step 4: Run the analysis
!python binding_analysis_tool.py

# Step 5: Show the plots (optional)
from IPython.display import Image, display
for file in os.listdir("results"):
    if file.endswith("_plot.png"):
        display(Image(filename=os.path.join("results", file)))
